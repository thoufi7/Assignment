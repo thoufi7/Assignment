{
 "cells": [
  {
   "cell_type": "markdown",
   "id": "f80ed9d0-a5b8-4f61-833b-d0337ceae8f5",
   "metadata": {},
   "source": [
    "# Operation on list\n"
   ]
  },
  {
   "cell_type": "markdown",
   "id": "7f20c261-6f40-4e76-896c-81587142107d",
   "metadata": {},
   "source": [
    "#### Create a list"
   ]
  },
  {
   "cell_type": "code",
   "execution_count": 1,
   "id": "3a13162a-acd9-4514-894d-7d36e5103852",
   "metadata": {},
   "outputs": [
    {
     "name": "stdout",
     "output_type": "stream",
     "text": [
      "Created List: [10, 20, 30, 40]\n"
     ]
    }
   ],
   "source": [
    "my_list = [10, 20, 30, 40]\n",
    "print(\"Created List:\", my_list)"
   ]
  },
  {
   "cell_type": "markdown",
   "id": "1c3e2691-845f-4abf-bd2d-8e81a95a311c",
   "metadata": {},
   "source": [
    "#### Append an element"
   ]
  },
  {
   "cell_type": "code",
   "execution_count": 2,
   "id": "3109c67a-286a-4393-9fe2-8ebf8dbc2aff",
   "metadata": {},
   "outputs": [
    {
     "name": "stdout",
     "output_type": "stream",
     "text": [
      "After Append: [10, 20, 30, 40, 50]\n"
     ]
    }
   ],
   "source": [
    "my_list = [10, 20, 30, 40]\n",
    "my_list.append(50)\n",
    "print(\"After Append:\", my_list)"
   ]
  },
  {
   "cell_type": "markdown",
   "id": "df637e7c-ffd1-44b1-9415-8585160a0a45",
   "metadata": {},
   "source": [
    "#### Insert element"
   ]
  },
  {
   "cell_type": "code",
   "execution_count": 3,
   "id": "88142e63-5430-494d-8fac-f758a92721d8",
   "metadata": {},
   "outputs": [
    {
     "name": "stdout",
     "output_type": "stream",
     "text": [
      "After Insert: [10, 20, 25, 30, 40]\n"
     ]
    }
   ],
   "source": [
    "my_list = [10, 20, 30, 40]\n",
    "my_list.insert(2, 25)\n",
    "print(\"After Insert:\", my_list)"
   ]
  },
  {
   "cell_type": "markdown",
   "id": "4028f778-b8e2-46ee-bc89-3146e1fa570c",
   "metadata": {},
   "source": [
    "#### Remove element"
   ]
  },
  {
   "cell_type": "code",
   "execution_count": 4,
   "id": "68fdcb7a-f7e4-4921-a08d-97ec54dc9533",
   "metadata": {},
   "outputs": [
    {
     "name": "stdout",
     "output_type": "stream",
     "text": [
      "After Remove: [10, 20, 40]\n"
     ]
    }
   ],
   "source": [
    "my_list = [10, 20, 30, 40]\n",
    "my_list.remove(30)\n",
    "print(\"After Remove:\", my_list)"
   ]
  },
  {
   "cell_type": "markdown",
   "id": "ee1a7d7f-b0c6-41eb-be24-dec216bfb613",
   "metadata": {},
   "source": [
    "#### Reverse the list"
   ]
  },
  {
   "cell_type": "code",
   "execution_count": 5,
   "id": "724f5e5d-8693-4cc0-90e1-997dad0349e7",
   "metadata": {},
   "outputs": [
    {
     "name": "stdout",
     "output_type": "stream",
     "text": [
      "After Reverse: [40, 30, 20, 10]\n"
     ]
    }
   ],
   "source": [
    "my_list = [10, 20, 30, 40]\n",
    "my_list.reverse()\n",
    "print(\"After Reverse:\", my_list)"
   ]
  },
  {
   "cell_type": "markdown",
   "id": "08991921-eb3f-4a6a-b0db-c390b6fd3a66",
   "metadata": {},
   "source": [
    "# Operation on tuple"
   ]
  },
  {
   "cell_type": "markdown",
   "id": "102e48f4-b90c-4594-9ad3-ecb527fa6804",
   "metadata": {},
   "source": [
    "#### Create a tuple"
   ]
  },
  {
   "cell_type": "code",
   "execution_count": 6,
   "id": "3292337b-b20f-4e5e-a688-40509bd92c69",
   "metadata": {},
   "outputs": [
    {
     "name": "stdout",
     "output_type": "stream",
     "text": [
      "Created Tuple: (1, 2, 3, 4, 5)\n"
     ]
    }
   ],
   "source": [
    "my_tuple = (1, 2, 3, 4, 5)\n",
    "print(\"Created Tuple:\", my_tuple)\n"
   ]
  },
  {
   "cell_type": "markdown",
   "id": "1e77b49e-a10e-41c9-bd5b-87f8a3ae65bd",
   "metadata": {},
   "source": [
    "#### Indexing\n"
   ]
  },
  {
   "cell_type": "code",
   "execution_count": 7,
   "id": "2d24dbe6-c5a8-4898-9ec1-f0a6711373dc",
   "metadata": {},
   "outputs": [
    {
     "name": "stdout",
     "output_type": "stream",
     "text": [
      "Element at index 2: 3\n"
     ]
    }
   ],
   "source": [
    "my_tuple = (1, 2, 3, 4, 5)\n",
    "print(\"Element at index 2:\", my_tuple[2])"
   ]
  },
  {
   "cell_type": "markdown",
   "id": "cab03e2d-47f8-4c0c-94ba-cc310a63e927",
   "metadata": {},
   "source": [
    "#### Slicing"
   ]
  },
  {
   "cell_type": "code",
   "execution_count": 8,
   "id": "577543a8-158c-4097-9701-493c1f14f911",
   "metadata": {},
   "outputs": [
    {
     "name": "stdout",
     "output_type": "stream",
     "text": [
      "Slice (1:4): (2, 3, 4)\n"
     ]
    }
   ],
   "source": [
    "my_tuple = (1, 2, 3, 4, 5)\n",
    "print(\"Slice (1:4):\", my_tuple[1:4])"
   ]
  },
  {
   "cell_type": "markdown",
   "id": "9203d331-2976-4fa7-81df-6a3fcbce4da1",
   "metadata": {},
   "source": [
    "#### Count"
   ]
  },
  {
   "cell_type": "code",
   "execution_count": 9,
   "id": "0e2b6064-8ace-4336-b13a-a73ddf5ad5fd",
   "metadata": {},
   "outputs": [
    {
     "name": "stdout",
     "output_type": "stream",
     "text": [
      "Count of 3: 2\n"
     ]
    }
   ],
   "source": [
    "my_tuple = (1, 2, 3, 3, 4, 5)\n",
    "print(\"Count of 3:\", my_tuple.count(3))"
   ]
  },
  {
   "cell_type": "markdown",
   "id": "d2188e94-84d0-4ac1-a055-b669a97f7047",
   "metadata": {},
   "source": [
    "#### Length"
   ]
  },
  {
   "cell_type": "code",
   "execution_count": 10,
   "id": "383cd6e8-8300-48cd-b107-9d083be8a636",
   "metadata": {},
   "outputs": [
    {
     "name": "stdout",
     "output_type": "stream",
     "text": [
      "Length of tuple: 5\n"
     ]
    }
   ],
   "source": [
    "my_tuple = (1, 2, 3, 4, 5)\n",
    "print(\"Length of tuple:\", len(my_tuple))"
   ]
  },
  {
   "cell_type": "markdown",
   "id": "35f2f8a6-b072-47b2-aee1-0e1a9c732302",
   "metadata": {},
   "source": [
    "# Operation on set"
   ]
  },
  {
   "cell_type": "markdown",
   "id": "c1a49beb-d177-48cd-b217-cb22f49ddf73",
   "metadata": {},
   "source": [
    "#### Create a set"
   ]
  },
  {
   "cell_type": "code",
   "execution_count": 11,
   "id": "e6f30906-4b4a-446a-8d61-8659879050c9",
   "metadata": {},
   "outputs": [
    {
     "name": "stdout",
     "output_type": "stream",
     "text": [
      "Created Set: {40, 10, 20, 30}\n"
     ]
    }
   ],
   "source": [
    "my_set = {10, 20, 30, 40}\n",
    "print(\"Created Set:\", my_set)"
   ]
  },
  {
   "cell_type": "markdown",
   "id": "4fb176bd-22c2-4e35-93b6-25d78b5ad913",
   "metadata": {},
   "source": [
    "####  Add element"
   ]
  },
  {
   "cell_type": "code",
   "execution_count": 12,
   "id": "967183e4-f14c-4510-8d8e-28ccd523163a",
   "metadata": {},
   "outputs": [
    {
     "name": "stdout",
     "output_type": "stream",
     "text": [
      "After Add: {40, 10, 50, 20, 30}\n"
     ]
    }
   ],
   "source": [
    "my_set = {10, 20, 30, 40}\n",
    "my_set.add(50)\n",
    "print(\"After Add:\", my_set)"
   ]
  },
  {
   "cell_type": "markdown",
   "id": "22b144ae-29d8-43c6-93d3-57bfd714854c",
   "metadata": {},
   "source": [
    "#### Remove element"
   ]
  },
  {
   "cell_type": "code",
   "execution_count": 13,
   "id": "bb6f899c-47d4-4aab-8b65-cf4931a45d3c",
   "metadata": {},
   "outputs": [
    {
     "name": "stdout",
     "output_type": "stream",
     "text": [
      "After Remove: {40, 10, 30}\n"
     ]
    }
   ],
   "source": [
    "my_set = {10, 20, 30, 40}\n",
    "my_set.remove(20)\n",
    "print(\"After Remove:\", my_set)"
   ]
  },
  {
   "cell_type": "markdown",
   "id": "01d00408-6e32-4672-80ad-f68c3428bcc7",
   "metadata": {},
   "source": [
    "#### Union"
   ]
  },
  {
   "cell_type": "code",
   "execution_count": 14,
   "id": "cad3e4ce-89ab-4472-8b39-fb1b5b00ba97",
   "metadata": {},
   "outputs": [
    {
     "name": "stdout",
     "output_type": "stream",
     "text": [
      "Union: {50, 20, 40, 10, 30}\n"
     ]
    }
   ],
   "source": [
    "set1 = {10, 20, 30}\n",
    "set2 = {30, 40, 50}\n",
    "print(\"Union:\", set1.union(set2))"
   ]
  },
  {
   "cell_type": "markdown",
   "id": "ee04489a-9d6f-43f6-a526-a985e6599cea",
   "metadata": {},
   "source": [
    "#### Intersection"
   ]
  },
  {
   "cell_type": "code",
   "execution_count": 15,
   "id": "dd14bfc6-cf2b-40e1-add5-72d0ebc06c03",
   "metadata": {},
   "outputs": [
    {
     "name": "stdout",
     "output_type": "stream",
     "text": [
      "Intersection: {30}\n"
     ]
    }
   ],
   "source": [
    "set1 = {10, 20, 30}\n",
    "set2 = {30, 40, 50}\n",
    "print(\"Intersection:\", set1.intersection(set2))"
   ]
  },
  {
   "cell_type": "markdown",
   "id": "6a1c44ba-aaf2-47b2-a066-5c1a72acae24",
   "metadata": {},
   "source": [
    "# Operation on dictinary"
   ]
  },
  {
   "cell_type": "markdown",
   "id": "b844bd85-4636-4b43-a97b-dc85abe6f479",
   "metadata": {},
   "source": [
    "#### Create dictionary"
   ]
  },
  {
   "cell_type": "code",
   "execution_count": 1,
   "id": "7cf6f45d-1304-4ea2-8173-78d77072a3a8",
   "metadata": {},
   "outputs": [
    {
     "name": "stdout",
     "output_type": "stream",
     "text": [
      "Created Dictionary: {'name': 'Fasith', 'age': 19, 'dept': 'CSE'}\n"
     ]
    }
   ],
   "source": [
    "my_dict = {\"name\": \"Fasith\", \"age\": 19, \"dept\": \"CSE\"}\n",
    "print(\"Created Dictionary:\", my_dict)"
   ]
  },
  {
   "cell_type": "markdown",
   "id": "d7a622d8-1992-4707-993f-d1fda00ce0ed",
   "metadata": {},
   "source": [
    "#### Access value"
   ]
  },
  {
   "cell_type": "code",
   "execution_count": 2,
   "id": "ed3a2f75-1821-4e59-a79d-fbb34273f93a",
   "metadata": {},
   "outputs": [
    {
     "name": "stdout",
     "output_type": "stream",
     "text": [
      "Name: Fasith\n"
     ]
    }
   ],
   "source": [
    "my_dict = {\"name\": \"Fasith\", \"age\": 19, \"dept\": \"CSE\"}\n",
    "print(\"Name:\", my_dict[\"name\"])"
   ]
  },
  {
   "cell_type": "markdown",
   "id": "563c79c3-056b-40b1-b77f-be385dcb9f55",
   "metadata": {},
   "source": [
    "####  Add new key-value"
   ]
  },
  {
   "cell_type": "code",
   "execution_count": 3,
   "id": "75037365-0c41-4bb5-995c-d2e6ae2c42b2",
   "metadata": {},
   "outputs": [
    {
     "name": "stdout",
     "output_type": "stream",
     "text": [
      "After Adding: {'name': 'Fasith', 'age': 19, 'dept': 'CSE', 'college': 'PMIST University'}\n"
     ]
    }
   ],
   "source": [
    "my_dict = {\"name\": \"Fasith\", \"age\": 19, \"dept\": \"CSE\"}\n",
    "my_dict[\"college\"] = \"PMIST University\"\n",
    "print(\"After Adding:\", my_dict)"
   ]
  },
  {
   "cell_type": "markdown",
   "id": "3f3da94f-3632-4dea-a4b1-73d38a6561d6",
   "metadata": {},
   "source": [
    "#### Update value"
   ]
  },
  {
   "cell_type": "code",
   "execution_count": 4,
   "id": "8b5c839c-1057-4e51-8702-0d383fa4464b",
   "metadata": {},
   "outputs": [
    {
     "name": "stdout",
     "output_type": "stream",
     "text": [
      "After Update: {'name': 'Fasith', 'age': 20, 'dept': 'CSE'}\n"
     ]
    }
   ],
   "source": [
    "my_dict = {\"name\": \"Fasith\", \"age\": 19, \"dept\": \"CSE\"}\n",
    "my_dict[\"age\"] = 20\n",
    "print(\"After Update:\", my_dict)"
   ]
  },
  {
   "cell_type": "markdown",
   "id": "712568f1-e62e-4c76-a773-5da74af84aef",
   "metadata": {},
   "source": [
    "#### Delete a key"
   ]
  },
  {
   "cell_type": "code",
   "execution_count": 5,
   "id": "90bde2cf-3ebc-448d-8dda-e3e5457a6ac6",
   "metadata": {},
   "outputs": [
    {
     "name": "stdout",
     "output_type": "stream",
     "text": [
      "After Delete: {'name': 'thoufic', 'age': 19}\n"
     ]
    }
   ],
   "source": [
    "my_dict = {\"name\": \"thoufic\", \"age\": 19, \"dept\": \"CSE\"}\n",
    "del my_dict[\"dept\"]\n",
    "print(\"After Delete:\", my_dict)"
   ]
  },
  {
   "cell_type": "code",
   "execution_count": null,
   "id": "0101d91e-a9d8-4e38-a7ce-7554b7a9ea10",
   "metadata": {},
   "outputs": [],
   "source": []
  }
 ],
 "metadata": {
  "kernelspec": {
   "display_name": "Python 3 (ipykernel)",
   "language": "python",
   "name": "python3"
  },
  "language_info": {
   "codemirror_mode": {
    "name": "ipython",
    "version": 3
   },
   "file_extension": ".py",
   "mimetype": "text/x-python",
   "name": "python",
   "nbconvert_exporter": "python",
   "pygments_lexer": "ipython3",
   "version": "3.13.5"
  }
 },
 "nbformat": 4,
 "nbformat_minor": 5
}
